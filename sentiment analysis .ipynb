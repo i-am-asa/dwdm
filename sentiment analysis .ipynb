{
 "cells": [
  {
   "cell_type": "code",
   "execution_count": 1,
   "metadata": {
    "colab": {},
    "colab_type": "code",
    "id": "ZuzhCXyDJEf_"
   },
   "outputs": [],
   "source": [
    "import tweepy\n",
    "import matplotlib.pyplot as plt\n",
    "from  textblob import TextBlob \n",
    "import time\n",
    "import re\n",
    "import pandas as pd\n",
    "from textblob import TextBlob\n",
    "import numpy as np"
   ]
  },
  {
   "cell_type": "code",
   "execution_count": 2,
   "metadata": {
    "colab": {},
    "colab_type": "code",
    "id": "DeBsK3BLI1X5"
   },
   "outputs": [],
   "source": [
    "# all 4 authentication keys to access twitter API\n",
    "# to connect as OAth handler or jump serever / revers proxy server\n",
    "consumer_key = \"0rrmLyKVH5qKhRFXiE0XeqQHg\"\n",
    "consumer_sec = \"84JLcoHcmhtUTJxQj1TNo0HzeNRh9V7CqiRazadJt7HUYxHsvs\"\n",
    "\n",
    "# from proxy server we need to connect\n",
    "access_token = \"3299723720-TSLpnSggT1JkEyF5JFFlPiiepNq0l4CNnibbRUI\"\n",
    "access_token_sec = \"GEFxpxlZBS2MDeOAF2BpdSyvKzYAWgPqG5I2CouV9Wk7b\"\n"
   ]
  },
  {
   "cell_type": "code",
   "execution_count": 3,
   "metadata": {
    "colab": {},
    "colab_type": "code",
    "id": "8zLkwJdoOeBQ"
   },
   "outputs": [],
   "source": [
    "# connected to jump server of twitter\n",
    "auth=tweepy.OAuthHandler(consumer_key,consumer_sec)"
   ]
  },
  {
   "cell_type": "code",
   "execution_count": 4,
   "metadata": {
    "colab": {},
    "colab_type": "code",
    "id": "Txf28H4CO76C"
   },
   "outputs": [],
   "source": [
    "# now we can connect from jump server to web server of twitter\n",
    "auth.set_access_token(access_token,access_token_sec)"
   ]
  },
  {
   "cell_type": "code",
   "execution_count": 5,
   "metadata": {
    "colab": {},
    "colab_type": "code",
    "id": "kSx0EjJDPPKY"
   },
   "outputs": [],
   "source": [
    "# now we can connect to API storge server of twitter\n",
    "api_connect=tweepy.API(auth)"
   ]
  },
  {
   "cell_type": "code",
   "execution_count": 6,
   "metadata": {
    "colab": {},
    "colab_type": "code",
    "id": "lB7agrsuPckx"
   },
   "outputs": [],
   "source": [
    "# now you can search any topic on twitter\n",
    "tweet_data=api_connect.search_tweets('health',count=100)"
   ]
  },
  {
   "cell_type": "code",
   "execution_count": 7,
   "metadata": {},
   "outputs": [],
   "source": [
    "df = pd.DataFrame(columns=('text', 'sentiment'))\n",
    "# Remove duplicates\n",
    "# df.sort_values(\"text\", inplace = True) \n",
    "# df.drop_duplicates(subset =\"text\", keep = False, inplace = True) "
   ]
  },
  {
   "cell_type": "code",
   "execution_count": 8,
   "metadata": {},
   "outputs": [],
   "source": [
    "for tweet in tweet_data:\n",
    "    sentimentText = TextBlob(tweet.text)\n",
    "    df = df.append({'text': re.sub(r'http\\S+', '', tweet.text),\n",
    "                    'sentiment': sentimentText.sentiment.polarity},\n",
    "                   ignore_index=True)"
   ]
  },
  {
   "cell_type": "code",
   "execution_count": 9,
   "metadata": {},
   "outputs": [
    {
     "data": {
      "text/plain": [
       "(100, 2)"
      ]
     },
     "execution_count": 9,
     "metadata": {},
     "output_type": "execute_result"
    }
   ],
   "source": [
    "df.shape"
   ]
  },
  {
   "cell_type": "code",
   "execution_count": 10,
   "metadata": {},
   "outputs": [
    {
     "data": {
      "text/html": [
       "<div>\n",
       "<style scoped>\n",
       "    .dataframe tbody tr th:only-of-type {\n",
       "        vertical-align: middle;\n",
       "    }\n",
       "\n",
       "    .dataframe tbody tr th {\n",
       "        vertical-align: top;\n",
       "    }\n",
       "\n",
       "    .dataframe thead th {\n",
       "        text-align: right;\n",
       "    }\n",
       "</style>\n",
       "<table border=\"1\" class=\"dataframe\">\n",
       "  <thead>\n",
       "    <tr style=\"text-align: right;\">\n",
       "      <th></th>\n",
       "      <th>text</th>\n",
       "      <th>sentiment</th>\n",
       "    </tr>\n",
       "  </thead>\n",
       "  <tbody>\n",
       "    <tr>\n",
       "      <th>0</th>\n",
       "      <td>RT @winwin_message_: [220211] {9.45 PM CST} \\n...</td>\n",
       "      <td>0.175</td>\n",
       "    </tr>\n",
       "    <tr>\n",
       "      <th>1</th>\n",
       "      <td>RT @LauraMiers: We aren’t going to hear about ...</td>\n",
       "      <td>0.000</td>\n",
       "    </tr>\n",
       "    <tr>\n",
       "      <th>2</th>\n",
       "      <td>My husband is always sending me videos on diff...</td>\n",
       "      <td>0.000</td>\n",
       "    </tr>\n",
       "    <tr>\n",
       "      <th>3</th>\n",
       "      <td>Lung-health startup Respira Labs inhales $2.8M...</td>\n",
       "      <td>0.000</td>\n",
       "    </tr>\n",
       "    <tr>\n",
       "      <th>4</th>\n",
       "      <td>RT @plbdkb69: MABEL #131574 WAS ON DEPT OF HEA...</td>\n",
       "      <td>0.000</td>\n",
       "    </tr>\n",
       "  </tbody>\n",
       "</table>\n",
       "</div>"
      ],
      "text/plain": [
       "                                                text  sentiment\n",
       "0  RT @winwin_message_: [220211] {9.45 PM CST} \\n...      0.175\n",
       "1  RT @LauraMiers: We aren’t going to hear about ...      0.000\n",
       "2  My husband is always sending me videos on diff...      0.000\n",
       "3  Lung-health startup Respira Labs inhales $2.8M...      0.000\n",
       "4  RT @plbdkb69: MABEL #131574 WAS ON DEPT OF HEA...      0.000"
      ]
     },
     "execution_count": 10,
     "metadata": {},
     "output_type": "execute_result"
    }
   ],
   "source": [
    "df.head()"
   ]
  },
  {
   "cell_type": "code",
   "execution_count": 11,
   "metadata": {},
   "outputs": [],
   "source": [
    "def remove_pattern(input_txt, pattern):\n",
    "    r = re.findall(pattern, input_txt)\n",
    "    for i in r:\n",
    "        input_txt = re.sub(i, '', input_txt)\n",
    "        \n",
    "    return input_txt "
   ]
  },
  {
   "cell_type": "code",
   "execution_count": 12,
   "metadata": {},
   "outputs": [],
   "source": [
    "df['Clean_text'] = np.vectorize(remove_pattern)(df['text'], \"@[\\w]*\")"
   ]
  },
  {
   "cell_type": "code",
   "execution_count": 13,
   "metadata": {},
   "outputs": [],
   "source": [
    "# remove special characters, numbers, punctuations\n",
    "df['Clean_text'] = df['Clean_text'].str.replace(\"[^a-zA-Z#]\", \" \")"
   ]
  },
  {
   "cell_type": "code",
   "execution_count": 14,
   "metadata": {},
   "outputs": [],
   "source": [
    "df['Clean_text'] = df['Clean_text'].apply(lambda x: ' '.join([w for w in x.split() if len(w)>3]))"
   ]
  },
  {
   "cell_type": "code",
   "execution_count": 15,
   "metadata": {},
   "outputs": [],
   "source": [
    "tokenized_tweet = df['Clean_text'].apply(lambda x: x.split())"
   ]
  },
  {
   "cell_type": "code",
   "execution_count": 16,
   "metadata": {},
   "outputs": [
    {
     "data": {
      "text/plain": [
       "0    [#winwin, hope, that, everyth, goe, smoothli, ...\n",
       "1    [aren, go, hear, about, public, health, threat...\n",
       "2    [husband, alway, send, video, diff, way, reduc...\n",
       "3    [lung, health, startup, respira, lab, inhal, h...\n",
       "4    [mabel, dept, health, hold, kill, list, wait, ...\n",
       "Name: Clean_text, dtype: object"
      ]
     },
     "execution_count": 16,
     "metadata": {},
     "output_type": "execute_result"
    }
   ],
   "source": [
    "from nltk.stem.porter import *\n",
    "stemmer = PorterStemmer()\n",
    "\n",
    "tokenized_tweet = tokenized_tweet.apply(lambda x: [stemmer.stem(i) for i in x]) # stemming\n",
    "tokenized_tweet.head()"
   ]
  },
  {
   "cell_type": "code",
   "execution_count": 17,
   "metadata": {},
   "outputs": [],
   "source": [
    "for i in range(len(tokenized_tweet)):\n",
    "    tokenized_tweet[i] = ' '.join(tokenized_tweet[i])\n",
    "\n",
    "df['Clean_text'] = tokenized_tweet"
   ]
  },
  {
   "cell_type": "code",
   "execution_count": 18,
   "metadata": {},
   "outputs": [
    {
     "data": {
      "text/html": [
       "<div>\n",
       "<style scoped>\n",
       "    .dataframe tbody tr th:only-of-type {\n",
       "        vertical-align: middle;\n",
       "    }\n",
       "\n",
       "    .dataframe tbody tr th {\n",
       "        vertical-align: top;\n",
       "    }\n",
       "\n",
       "    .dataframe thead th {\n",
       "        text-align: right;\n",
       "    }\n",
       "</style>\n",
       "<table border=\"1\" class=\"dataframe\">\n",
       "  <thead>\n",
       "    <tr style=\"text-align: right;\">\n",
       "      <th></th>\n",
       "      <th>text</th>\n",
       "      <th>Clean_text</th>\n",
       "    </tr>\n",
       "  </thead>\n",
       "  <tbody>\n",
       "    <tr>\n",
       "      <th>0</th>\n",
       "      <td>RT @winwin_message_: [220211] {9.45 PM CST} \\n...</td>\n",
       "      <td>#winwin hope that everyth goe smoothli good lu...</td>\n",
       "    </tr>\n",
       "    <tr>\n",
       "      <th>1</th>\n",
       "      <td>RT @LauraMiers: We aren’t going to hear about ...</td>\n",
       "      <td>aren go hear about public health threat that i...</td>\n",
       "    </tr>\n",
       "    <tr>\n",
       "      <th>2</th>\n",
       "      <td>My husband is always sending me videos on diff...</td>\n",
       "      <td>husband alway send video diff way reduc stress...</td>\n",
       "    </tr>\n",
       "    <tr>\n",
       "      <th>3</th>\n",
       "      <td>Lung-health startup Respira Labs inhales $2.8M...</td>\n",
       "      <td>lung health startup respira lab inhal help res...</td>\n",
       "    </tr>\n",
       "    <tr>\n",
       "      <th>4</th>\n",
       "      <td>RT @plbdkb69: MABEL #131574 WAS ON DEPT OF HEA...</td>\n",
       "      <td>mabel dept health hold kill list wait found br...</td>\n",
       "    </tr>\n",
       "    <tr>\n",
       "      <th>...</th>\n",
       "      <td>...</td>\n",
       "      <td>...</td>\n",
       "    </tr>\n",
       "    <tr>\n",
       "      <th>95</th>\n",
       "      <td>The Magic of Bee Venom Destroys Cancer Cells |...</td>\n",
       "      <td>magic venom destroy cancer cell natur real health</td>\n",
       "    </tr>\n",
       "    <tr>\n",
       "      <th>96</th>\n",
       "      <td>RT @eieijisho: nutrition; the food that you ea...</td>\n",
       "      <td>nutrit food that that affect your health</td>\n",
       "    </tr>\n",
       "    <tr>\n",
       "      <th>97</th>\n",
       "      <td>There has been a better way for you to get in ...</td>\n",
       "      <td>there been better shape have energi love your ...</td>\n",
       "    </tr>\n",
       "    <tr>\n",
       "      <th>98</th>\n",
       "      <td>RT @LfcJmr: Australia has fallen!\\n\\nKILLED fo...</td>\n",
       "      <td>australia fallen kill follow covid regul that ...</td>\n",
       "    </tr>\n",
       "    <tr>\n",
       "      <th>99</th>\n",
       "      <td>Another student dismissed from grad school due...</td>\n",
       "      <td>anoth student dismiss from grad school mental ...</td>\n",
       "    </tr>\n",
       "  </tbody>\n",
       "</table>\n",
       "<p>100 rows × 2 columns</p>\n",
       "</div>"
      ],
      "text/plain": [
       "                                                 text  \\\n",
       "0   RT @winwin_message_: [220211] {9.45 PM CST} \\n...   \n",
       "1   RT @LauraMiers: We aren’t going to hear about ...   \n",
       "2   My husband is always sending me videos on diff...   \n",
       "3   Lung-health startup Respira Labs inhales $2.8M...   \n",
       "4   RT @plbdkb69: MABEL #131574 WAS ON DEPT OF HEA...   \n",
       "..                                                ...   \n",
       "95  The Magic of Bee Venom Destroys Cancer Cells |...   \n",
       "96  RT @eieijisho: nutrition; the food that you ea...   \n",
       "97  There has been a better way for you to get in ...   \n",
       "98  RT @LfcJmr: Australia has fallen!\\n\\nKILLED fo...   \n",
       "99  Another student dismissed from grad school due...   \n",
       "\n",
       "                                           Clean_text  \n",
       "0   #winwin hope that everyth goe smoothli good lu...  \n",
       "1   aren go hear about public health threat that i...  \n",
       "2   husband alway send video diff way reduc stress...  \n",
       "3   lung health startup respira lab inhal help res...  \n",
       "4   mabel dept health hold kill list wait found br...  \n",
       "..                                                ...  \n",
       "95  magic venom destroy cancer cell natur real health  \n",
       "96           nutrit food that that affect your health  \n",
       "97  there been better shape have energi love your ...  \n",
       "98  australia fallen kill follow covid regul that ...  \n",
       "99  anoth student dismiss from grad school mental ...  \n",
       "\n",
       "[100 rows x 2 columns]"
      ]
     },
     "execution_count": 18,
     "metadata": {},
     "output_type": "execute_result"
    }
   ],
   "source": [
    "df.loc[:,('text','Clean_text')]"
   ]
  },
  {
   "cell_type": "code",
   "execution_count": 19,
   "metadata": {},
   "outputs": [
    {
     "data": {
      "text/html": [
       "<div>\n",
       "<style scoped>\n",
       "    .dataframe tbody tr th:only-of-type {\n",
       "        vertical-align: middle;\n",
       "    }\n",
       "\n",
       "    .dataframe tbody tr th {\n",
       "        vertical-align: top;\n",
       "    }\n",
       "\n",
       "    .dataframe thead th {\n",
       "        text-align: right;\n",
       "    }\n",
       "</style>\n",
       "<table border=\"1\" class=\"dataframe\">\n",
       "  <thead>\n",
       "    <tr style=\"text-align: right;\">\n",
       "      <th></th>\n",
       "      <th>text</th>\n",
       "      <th>sentiment</th>\n",
       "      <th>Clean_text</th>\n",
       "    </tr>\n",
       "  </thead>\n",
       "  <tbody>\n",
       "  </tbody>\n",
       "</table>\n",
       "</div>"
      ],
      "text/plain": [
       "Empty DataFrame\n",
       "Columns: [text, sentiment, Clean_text]\n",
       "Index: []"
      ]
     },
     "execution_count": 19,
     "metadata": {},
     "output_type": "execute_result"
    }
   ],
   "source": [
    "df[df.text.isnull()]"
   ]
  },
  {
   "cell_type": "code",
   "execution_count": 20,
   "metadata": {},
   "outputs": [
    {
     "data": {
      "text/html": [
       "<div>\n",
       "<style scoped>\n",
       "    .dataframe tbody tr th:only-of-type {\n",
       "        vertical-align: middle;\n",
       "    }\n",
       "\n",
       "    .dataframe tbody tr th {\n",
       "        vertical-align: top;\n",
       "    }\n",
       "\n",
       "    .dataframe thead th {\n",
       "        text-align: right;\n",
       "    }\n",
       "</style>\n",
       "<table border=\"1\" class=\"dataframe\">\n",
       "  <thead>\n",
       "    <tr style=\"text-align: right;\">\n",
       "      <th></th>\n",
       "      <th>text</th>\n",
       "      <th>sentiment</th>\n",
       "      <th>Clean_text</th>\n",
       "    </tr>\n",
       "  </thead>\n",
       "  <tbody>\n",
       "  </tbody>\n",
       "</table>\n",
       "</div>"
      ],
      "text/plain": [
       "Empty DataFrame\n",
       "Columns: [text, sentiment, Clean_text]\n",
       "Index: []"
      ]
     },
     "execution_count": 20,
     "metadata": {},
     "output_type": "execute_result"
    }
   ],
   "source": [
    "df[df.Clean_text.isnull()]"
   ]
  },
  {
   "cell_type": "code",
   "execution_count": 21,
   "metadata": {},
   "outputs": [
    {
     "name": "stdout",
     "output_type": "stream",
     "text": [
      "90\n",
      "90\n",
      "100\n"
     ]
    }
   ],
   "source": [
    "# Number of unique tweets\n",
    "unique_clean_text = df.Clean_text.unique()\n",
    "unique_text = df.text.unique()\n",
    "print(len(unique_clean_text))\n",
    "print(len(unique_text))\n",
    "print(len(df))"
   ]
  },
  {
   "cell_type": "code",
   "execution_count": 22,
   "metadata": {},
   "outputs": [],
   "source": [
    "df.drop_duplicates(subset=['Clean_text'], keep = 'first',inplace= True)"
   ]
  },
  {
   "cell_type": "code",
   "execution_count": 23,
   "metadata": {},
   "outputs": [],
   "source": [
    "df.reset_index(drop=True,inplace=True)"
   ]
  },
  {
   "cell_type": "code",
   "execution_count": 24,
   "metadata": {},
   "outputs": [
    {
     "data": {
      "text/html": [
       "<div>\n",
       "<style scoped>\n",
       "    .dataframe tbody tr th:only-of-type {\n",
       "        vertical-align: middle;\n",
       "    }\n",
       "\n",
       "    .dataframe tbody tr th {\n",
       "        vertical-align: top;\n",
       "    }\n",
       "\n",
       "    .dataframe thead th {\n",
       "        text-align: right;\n",
       "    }\n",
       "</style>\n",
       "<table border=\"1\" class=\"dataframe\">\n",
       "  <thead>\n",
       "    <tr style=\"text-align: right;\">\n",
       "      <th></th>\n",
       "      <th>text</th>\n",
       "      <th>sentiment</th>\n",
       "      <th>Clean_text</th>\n",
       "      <th>Clean_text_length</th>\n",
       "    </tr>\n",
       "  </thead>\n",
       "  <tbody>\n",
       "    <tr>\n",
       "      <th>0</th>\n",
       "      <td>RT @winwin_message_: [220211] {9.45 PM CST} \\n...</td>\n",
       "      <td>0.175</td>\n",
       "      <td>#winwin hope that everyth goe smoothli good lu...</td>\n",
       "      <td>70</td>\n",
       "    </tr>\n",
       "    <tr>\n",
       "      <th>1</th>\n",
       "      <td>RT @LauraMiers: We aren’t going to hear about ...</td>\n",
       "      <td>0.000</td>\n",
       "      <td>aren go hear about public health threat that i...</td>\n",
       "      <td>83</td>\n",
       "    </tr>\n",
       "    <tr>\n",
       "      <th>2</th>\n",
       "      <td>My husband is always sending me videos on diff...</td>\n",
       "      <td>0.000</td>\n",
       "      <td>husband alway send video diff way reduc stress...</td>\n",
       "      <td>75</td>\n",
       "    </tr>\n",
       "    <tr>\n",
       "      <th>3</th>\n",
       "      <td>Lung-health startup Respira Labs inhales $2.8M...</td>\n",
       "      <td>0.000</td>\n",
       "      <td>lung health startup respira lab inhal help res...</td>\n",
       "      <td>85</td>\n",
       "    </tr>\n",
       "    <tr>\n",
       "      <th>4</th>\n",
       "      <td>RT @plbdkb69: MABEL #131574 WAS ON DEPT OF HEA...</td>\n",
       "      <td>0.000</td>\n",
       "      <td>mabel dept health hold kill list wait found br...</td>\n",
       "      <td>63</td>\n",
       "    </tr>\n",
       "  </tbody>\n",
       "</table>\n",
       "</div>"
      ],
      "text/plain": [
       "                                                text  sentiment  \\\n",
       "0  RT @winwin_message_: [220211] {9.45 PM CST} \\n...      0.175   \n",
       "1  RT @LauraMiers: We aren’t going to hear about ...      0.000   \n",
       "2  My husband is always sending me videos on diff...      0.000   \n",
       "3  Lung-health startup Respira Labs inhales $2.8M...      0.000   \n",
       "4  RT @plbdkb69: MABEL #131574 WAS ON DEPT OF HEA...      0.000   \n",
       "\n",
       "                                          Clean_text  Clean_text_length  \n",
       "0  #winwin hope that everyth goe smoothli good lu...                 70  \n",
       "1  aren go hear about public health threat that i...                 83  \n",
       "2  husband alway send video diff way reduc stress...                 75  \n",
       "3  lung health startup respira lab inhal help res...                 85  \n",
       "4  mabel dept health hold kill list wait found br...                 63  "
      ]
     },
     "execution_count": 24,
     "metadata": {},
     "output_type": "execute_result"
    }
   ],
   "source": [
    "df['Clean_text_length'] = df['Clean_text'].apply(len)\n",
    "df.head()"
   ]
  },
  {
   "cell_type": "code",
   "execution_count": 25,
   "metadata": {},
   "outputs": [
    {
     "data": {
      "text/plain": [
       "Int64Index([], dtype='int64')"
      ]
     },
     "execution_count": 25,
     "metadata": {},
     "output_type": "execute_result"
    }
   ],
   "source": [
    "df[df['Clean_text_length']==0]['Clean_text'] ## Looks like these are tweets with different languages or just hastags.\n",
    "# We can simply drop these tweets\n",
    "list = df[df['Clean_text_length']==0]['Clean_text'].index\n",
    "list"
   ]
  },
  {
   "cell_type": "code",
   "execution_count": 26,
   "metadata": {},
   "outputs": [],
   "source": [
    "df.drop(index = list,inplace=True)"
   ]
  },
  {
   "cell_type": "code",
   "execution_count": 27,
   "metadata": {},
   "outputs": [
    {
     "name": "stdout",
     "output_type": "stream",
     "text": [
      "<class 'pandas.core.frame.DataFrame'>\n",
      "Int64Index: 90 entries, 0 to 89\n",
      "Data columns (total 4 columns):\n",
      " #   Column             Non-Null Count  Dtype  \n",
      "---  ------             --------------  -----  \n",
      " 0   text               90 non-null     object \n",
      " 1   sentiment          90 non-null     float64\n",
      " 2   Clean_text         90 non-null     object \n",
      " 3   Clean_text_length  90 non-null     int64  \n",
      "dtypes: float64(1), int64(1), object(2)\n",
      "memory usage: 3.5+ KB\n"
     ]
    }
   ],
   "source": [
    "df.info()"
   ]
  },
  {
   "cell_type": "code",
   "execution_count": 28,
   "metadata": {},
   "outputs": [
    {
     "name": "stdout",
     "output_type": "stream",
     "text": [
      "<class 'pandas.core.frame.DataFrame'>\n",
      "RangeIndex: 90 entries, 0 to 89\n",
      "Data columns (total 4 columns):\n",
      " #   Column             Non-Null Count  Dtype  \n",
      "---  ------             --------------  -----  \n",
      " 0   text               90 non-null     object \n",
      " 1   sentiment          90 non-null     float64\n",
      " 2   Clean_text         90 non-null     object \n",
      " 3   Clean_text_length  90 non-null     int64  \n",
      "dtypes: float64(1), int64(1), object(2)\n",
      "memory usage: 2.9+ KB\n"
     ]
    }
   ],
   "source": [
    "df.reset_index(drop=True,inplace=True)\n",
    "df.info()"
   ]
  },
  {
   "cell_type": "code",
   "execution_count": 29,
   "metadata": {},
   "outputs": [],
   "source": [
    "def calculate_sentiment(Clean_text):\n",
    "    return TextBlob(Clean_text).sentiment"
   ]
  },
  {
   "cell_type": "code",
   "execution_count": 30,
   "metadata": {},
   "outputs": [],
   "source": [
    "def calculate_sentiment_analyser(Clean_text):    \n",
    "    return analyser.polarity_scores(Clean_text)"
   ]
  },
  {
   "cell_type": "code",
   "execution_count": 31,
   "metadata": {},
   "outputs": [
    {
     "data": {
      "text/html": [
       "<div>\n",
       "<style scoped>\n",
       "    .dataframe tbody tr th:only-of-type {\n",
       "        vertical-align: middle;\n",
       "    }\n",
       "\n",
       "    .dataframe tbody tr th {\n",
       "        vertical-align: top;\n",
       "    }\n",
       "\n",
       "    .dataframe thead th {\n",
       "        text-align: right;\n",
       "    }\n",
       "</style>\n",
       "<table border=\"1\" class=\"dataframe\">\n",
       "  <thead>\n",
       "    <tr style=\"text-align: right;\">\n",
       "      <th></th>\n",
       "      <th>text</th>\n",
       "      <th>sentiment</th>\n",
       "      <th>Clean_text</th>\n",
       "      <th>Clean_text_length</th>\n",
       "    </tr>\n",
       "  </thead>\n",
       "  <tbody>\n",
       "    <tr>\n",
       "      <th>0</th>\n",
       "      <td>RT @winwin_message_: [220211] {9.45 PM CST} \\n...</td>\n",
       "      <td>Positive</td>\n",
       "      <td>#winwin hope that everyth goe smoothli good lu...</td>\n",
       "      <td>70</td>\n",
       "    </tr>\n",
       "    <tr>\n",
       "      <th>1</th>\n",
       "      <td>RT @LauraMiers: We aren’t going to hear about ...</td>\n",
       "      <td>Positive</td>\n",
       "      <td>aren go hear about public health threat that i...</td>\n",
       "      <td>83</td>\n",
       "    </tr>\n",
       "    <tr>\n",
       "      <th>2</th>\n",
       "      <td>My husband is always sending me videos on diff...</td>\n",
       "      <td>Positive</td>\n",
       "      <td>husband alway send video diff way reduc stress...</td>\n",
       "      <td>75</td>\n",
       "    </tr>\n",
       "    <tr>\n",
       "      <th>3</th>\n",
       "      <td>Lung-health startup Respira Labs inhales $2.8M...</td>\n",
       "      <td>Positive</td>\n",
       "      <td>lung health startup respira lab inhal help res...</td>\n",
       "      <td>85</td>\n",
       "    </tr>\n",
       "    <tr>\n",
       "      <th>4</th>\n",
       "      <td>RT @plbdkb69: MABEL #131574 WAS ON DEPT OF HEA...</td>\n",
       "      <td>Positive</td>\n",
       "      <td>mabel dept health hold kill list wait found br...</td>\n",
       "      <td>63</td>\n",
       "    </tr>\n",
       "    <tr>\n",
       "      <th>...</th>\n",
       "      <td>...</td>\n",
       "      <td>...</td>\n",
       "      <td>...</td>\n",
       "      <td>...</td>\n",
       "    </tr>\n",
       "    <tr>\n",
       "      <th>85</th>\n",
       "      <td>The Magic of Bee Venom Destroys Cancer Cells |...</td>\n",
       "      <td>Positive</td>\n",
       "      <td>magic venom destroy cancer cell natur real health</td>\n",
       "      <td>49</td>\n",
       "    </tr>\n",
       "    <tr>\n",
       "      <th>86</th>\n",
       "      <td>RT @eieijisho: nutrition; the food that you ea...</td>\n",
       "      <td>Positive</td>\n",
       "      <td>nutrit food that that affect your health</td>\n",
       "      <td>40</td>\n",
       "    </tr>\n",
       "    <tr>\n",
       "      <th>87</th>\n",
       "      <td>There has been a better way for you to get in ...</td>\n",
       "      <td>Positive</td>\n",
       "      <td>there been better shape have energi love your ...</td>\n",
       "      <td>57</td>\n",
       "    </tr>\n",
       "    <tr>\n",
       "      <th>88</th>\n",
       "      <td>RT @LfcJmr: Australia has fallen!\\n\\nKILLED fo...</td>\n",
       "      <td>Negative</td>\n",
       "      <td>australia fallen kill follow covid regul that ...</td>\n",
       "      <td>69</td>\n",
       "    </tr>\n",
       "    <tr>\n",
       "      <th>89</th>\n",
       "      <td>Another student dismissed from grad school due...</td>\n",
       "      <td>Negative</td>\n",
       "      <td>anoth student dismiss from grad school mental ...</td>\n",
       "      <td>86</td>\n",
       "    </tr>\n",
       "  </tbody>\n",
       "</table>\n",
       "<p>90 rows × 4 columns</p>\n",
       "</div>"
      ],
      "text/plain": [
       "                                                 text sentiment  \\\n",
       "0   RT @winwin_message_: [220211] {9.45 PM CST} \\n...  Positive   \n",
       "1   RT @LauraMiers: We aren’t going to hear about ...  Positive   \n",
       "2   My husband is always sending me videos on diff...  Positive   \n",
       "3   Lung-health startup Respira Labs inhales $2.8M...  Positive   \n",
       "4   RT @plbdkb69: MABEL #131574 WAS ON DEPT OF HEA...  Positive   \n",
       "..                                                ...       ...   \n",
       "85  The Magic of Bee Venom Destroys Cancer Cells |...  Positive   \n",
       "86  RT @eieijisho: nutrition; the food that you ea...  Positive   \n",
       "87  There has been a better way for you to get in ...  Positive   \n",
       "88  RT @LfcJmr: Australia has fallen!\\n\\nKILLED fo...  Negative   \n",
       "89  Another student dismissed from grad school due...  Negative   \n",
       "\n",
       "                                           Clean_text  Clean_text_length  \n",
       "0   #winwin hope that everyth goe smoothli good lu...                 70  \n",
       "1   aren go hear about public health threat that i...                 83  \n",
       "2   husband alway send video diff way reduc stress...                 75  \n",
       "3   lung health startup respira lab inhal help res...                 85  \n",
       "4   mabel dept health hold kill list wait found br...                 63  \n",
       "..                                                ...                ...  \n",
       "85  magic venom destroy cancer cell natur real health                 49  \n",
       "86           nutrit food that that affect your health                 40  \n",
       "87  there been better shape have energi love your ...                 57  \n",
       "88  australia fallen kill follow covid regul that ...                 69  \n",
       "89  anoth student dismiss from grad school mental ...                 86  \n",
       "\n",
       "[90 rows x 4 columns]"
      ]
     },
     "execution_count": 31,
     "metadata": {},
     "output_type": "execute_result"
    }
   ],
   "source": [
    "s = pd.DataFrame(index = range(0,len(df)),columns= ['sentiment'])\n",
    "pos=0\n",
    "neg=0\n",
    "neu=0\n",
    "for i in range(0,len(df)): \n",
    "    \n",
    "    if (df['sentiment'][i] < 0):\n",
    "        s['sentiment'][i] = 'Negative' \n",
    "        neg=neg+1\n",
    "    if (df['sentiment'] [i]>= 0):\n",
    "        s['sentiment'][i] = 'Positive'\n",
    "        pos=pos+1\n",
    "    #if ((df['tweet_sentiment'][i] >= -0.05) | (df['tweet_sentiment'] <= 0.05)):\n",
    "#     else:\n",
    "#         s['sentiment'][i] = 'Neutral'\n",
    "    \n",
    "df['sentiment'] = s['sentiment']\n",
    "df"
   ]
  },
  {
   "cell_type": "code",
   "execution_count": 94,
   "metadata": {},
   "outputs": [],
   "source": [
    "df.to_csv('sentiment_analysis.csv')\n"
   ]
  },
  {
   "cell_type": "code",
   "execution_count": 95,
   "metadata": {},
   "outputs": [
    {
     "data": {
      "text/plain": [
       "text                 0\n",
       "sentiment            1\n",
       "Clean_text           0\n",
       "Clean_text_length    0\n",
       "dtype: int64"
      ]
     },
     "execution_count": 95,
     "metadata": {},
     "output_type": "execute_result"
    }
   ],
   "source": [
    "df.isnull().sum()"
   ]
  },
  {
   "cell_type": "code",
   "execution_count": 96,
   "metadata": {},
   "outputs": [],
   "source": [
    "df.dropna(inplace=True)"
   ]
  },
  {
   "cell_type": "code",
   "execution_count": 97,
   "metadata": {},
   "outputs": [
    {
     "data": {
      "text/plain": [
       "text                 0\n",
       "sentiment            0\n",
       "Clean_text           0\n",
       "Clean_text_length    0\n",
       "dtype: int64"
      ]
     },
     "execution_count": 97,
     "metadata": {},
     "output_type": "execute_result"
    }
   ],
   "source": [
    "df.isnull().sum()"
   ]
  },
  {
   "cell_type": "code",
   "execution_count": 98,
   "metadata": {},
   "outputs": [
    {
     "data": {
      "text/plain": [
       "Neutral     41\n",
       "Positive    33\n",
       "Negative    12\n",
       "Name: sentiment, dtype: int64"
      ]
     },
     "execution_count": 98,
     "metadata": {},
     "output_type": "execute_result"
    }
   ],
   "source": [
    "df.sentiment.value_counts()"
   ]
  },
  {
   "cell_type": "code",
   "execution_count": 99,
   "metadata": {},
   "outputs": [
    {
     "data": {
      "text/plain": [
       "array(['Positive', 'Negative', 'Neutral'], dtype=object)"
      ]
     },
     "execution_count": 99,
     "metadata": {},
     "output_type": "execute_result"
    }
   ],
   "source": [
    "df['sentiment'].unique()"
   ]
  },
  {
   "cell_type": "code",
   "execution_count": 100,
   "metadata": {},
   "outputs": [],
   "source": [
    "from sklearn.preprocessing import LabelEncoder\n",
    "le=LabelEncoder()\n",
    "df['sentiment_id']=le.fit_transform(df['sentiment'])"
   ]
  },
  {
   "cell_type": "code",
   "execution_count": 101,
   "metadata": {},
   "outputs": [
    {
     "data": {
      "text/html": [
       "<div>\n",
       "<style scoped>\n",
       "    .dataframe tbody tr th:only-of-type {\n",
       "        vertical-align: middle;\n",
       "    }\n",
       "\n",
       "    .dataframe tbody tr th {\n",
       "        vertical-align: top;\n",
       "    }\n",
       "\n",
       "    .dataframe thead th {\n",
       "        text-align: right;\n",
       "    }\n",
       "</style>\n",
       "<table border=\"1\" class=\"dataframe\">\n",
       "  <thead>\n",
       "    <tr style=\"text-align: right;\">\n",
       "      <th></th>\n",
       "      <th>text</th>\n",
       "      <th>sentiment</th>\n",
       "      <th>Clean_text</th>\n",
       "      <th>Clean_text_length</th>\n",
       "      <th>sentiment_id</th>\n",
       "    </tr>\n",
       "  </thead>\n",
       "  <tbody>\n",
       "    <tr>\n",
       "      <th>0</th>\n",
       "      <td>🚨 COME MEET the Seanadóir for Meath (ME) at Gl...</td>\n",
       "      <td>Positive</td>\n",
       "      <td>come meet seanad meath glaslough gregg today w...</td>\n",
       "      <td>67</td>\n",
       "      <td>2</td>\n",
       "    </tr>\n",
       "    <tr>\n",
       "      <th>1</th>\n",
       "      <td>The Fight for The Throne: A DuBredo Fanfic\\nTa...</td>\n",
       "      <td>Negative</td>\n",
       "      <td>fight throne dubredo fanfic tag sara dutert le...</td>\n",
       "      <td>85</td>\n",
       "      <td>0</td>\n",
       "    </tr>\n",
       "    <tr>\n",
       "      <th>2</th>\n",
       "      <td>RT @Shehzad_Ind: Soon after its swearing-in, t...</td>\n",
       "      <td>Positive</td>\n",
       "      <td>soon after swear govt uttarakhand will form co...</td>\n",
       "      <td>84</td>\n",
       "      <td>2</td>\n",
       "    </tr>\n",
       "    <tr>\n",
       "      <th>3</th>\n",
       "      <td>Foreign policy is one of those areas where it ...</td>\n",
       "      <td>Positive</td>\n",
       "      <td>foreign polici those area where best avoid ide...</td>\n",
       "      <td>72</td>\n",
       "      <td>2</td>\n",
       "    </tr>\n",
       "    <tr>\n",
       "      <th>4</th>\n",
       "      <td>\"Halálos világjárvány idején a családok millió...</td>\n",
       "      <td>Neutral</td>\n",
       "      <td>idej csal milli inak lelm korm nybuktat kihasz...</td>\n",
       "      <td>54</td>\n",
       "      <td>1</td>\n",
       "    </tr>\n",
       "  </tbody>\n",
       "</table>\n",
       "</div>"
      ],
      "text/plain": [
       "                                                text sentiment  \\\n",
       "0  🚨 COME MEET the Seanadóir for Meath (ME) at Gl...  Positive   \n",
       "1  The Fight for The Throne: A DuBredo Fanfic\\nTa...  Negative   \n",
       "2  RT @Shehzad_Ind: Soon after its swearing-in, t...  Positive   \n",
       "3  Foreign policy is one of those areas where it ...  Positive   \n",
       "4  \"Halálos világjárvány idején a családok millió...   Neutral   \n",
       "\n",
       "                                          Clean_text  Clean_text_length  \\\n",
       "0  come meet seanad meath glaslough gregg today w...                 67   \n",
       "1  fight throne dubredo fanfic tag sara dutert le...                 85   \n",
       "2  soon after swear govt uttarakhand will form co...                 84   \n",
       "3  foreign polici those area where best avoid ide...                 72   \n",
       "4  idej csal milli inak lelm korm nybuktat kihasz...                 54   \n",
       "\n",
       "   sentiment_id  \n",
       "0             2  \n",
       "1             0  \n",
       "2             2  \n",
       "3             2  \n",
       "4             1  "
      ]
     },
     "execution_count": 101,
     "metadata": {},
     "output_type": "execute_result"
    }
   ],
   "source": [
    "df.head()"
   ]
  },
  {
   "cell_type": "code",
   "execution_count": 102,
   "metadata": {},
   "outputs": [
    {
     "data": {
      "text/plain": [
       "array([[<matplotlib.axes._subplots.AxesSubplot object at 0x00000122BAD99648>,\n",
       "        <matplotlib.axes._subplots.AxesSubplot object at 0x00000122C4FB6088>]],\n",
       "      dtype=object)"
      ]
     },
     "execution_count": 102,
     "metadata": {},
     "output_type": "execute_result"
    },
    {
     "data": {
      "image/png": "[encoded data removed]",
      "text/plain": [
       "<Figure size 720x720 with 2 Axes>"
      ]
     },
     "metadata": {
      "needs_background": "light"
     },
     "output_type": "display_data"
    }
   ],
   "source": [
    "import matplotlib.pyplot as plt\n",
    "%matplotlib inline\n",
    "df.hist(figsize=(10,10))"
   ]
  },
  {
   "cell_type": "code",
   "execution_count": 103,
   "metadata": {},
   "outputs": [
    {
     "data": {
      "image/png": "[encoded data removed]",
      "text/plain": [
       "<Figure size 432x288 with 1 Axes>"
      ]
     },
     "metadata": {},
     "output_type": "display_data"
    }
   ],
   "source": [
    "# ploting graphs\n",
    "plt.xlabel(\"tags\")\n",
    "plt.ylabel(\"polarity\")\n",
    "#plt.bar(['pos','neg','neu'],[pos,neg,neu])\n",
    "plt.pie([pos,neg,neu],labels=['pos','neg','neu'],autopct=\"%1.1f%%\")\n",
    "plt.show()"
   ]
  },
  {
   "cell_type": "code",
   "execution_count": 104,
   "metadata": {
    "colab": {
     "base_uri": "https://localhost:8080/",
     "height": 1000
    },
    "colab_type": "code",
    "id": "CPboqiqWPoYt",
    "outputId": "3bf9633a-4d52-4cd4-e0f8-1beb4abee69b"
   },
   "outputs": [
    {
     "data": {
      "text/plain": [
       "<BarContainer object of 3 artists>"
      ]
     },
     "execution_count": 104,
     "metadata": {},
     "output_type": "execute_result"
    },
    {
     "data": {
      "image/png": "[encoded data removed]",
      "text/plain": [
       "<Figure size 432x288 with 1 Axes>"
      ]
     },
     "metadata": {
      "needs_background": "light"
     },
     "output_type": "display_data"
    }
   ],
   "source": [
    "plt.bar(['pos','neg','neu'],[pos,neg,neu])"
   ]
  },
  {
   "cell_type": "code",
   "execution_count": null,
   "metadata": {
    "colab": {},
    "colab_type": "code",
    "id": "3xUmbslpQVmr"
   },
   "outputs": [],
   "source": []
  },
  {
   "cell_type": "code",
   "execution_count": null,
   "metadata": {},
   "outputs": [],
   "source": []
  }
 ],
 "metadata": {
  "colab": {
   "name": "Untitled50.ipynb",
   "provenance": []
  },
  "kernelspec": {
   "display_name": "Python 3",
   "language": "python",
   "name": "python3"
  },
  "language_info": {
   "codemirror_mode": {
    "name": "ipython",
    "version": 3
   },
   "file_extension": ".py",
   "mimetype": "text/x-python",
   "name": "python",
   "nbconvert_exporter": "python",
   "pygments_lexer": "ipython3",
   "version": "3.7.6"
  }
 },
 "nbformat": 4,
 "nbformat_minor": 1
}
